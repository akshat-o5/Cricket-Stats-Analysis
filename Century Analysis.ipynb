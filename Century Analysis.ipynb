{
 "cells": [
  {
   "cell_type": "code",
   "execution_count": 206,
   "id": "28e7ec58",
   "metadata": {},
   "outputs": [],
   "source": [
    "import numpy as np\n",
    "import pandas as pd\n",
    "from matplotlib import pyplot as plt\n",
    "%matplotlib inline\n",
    "import seaborn as sns # for visualizing data"
   ]
  },
  {
   "cell_type": "code",
   "execution_count": 207,
   "id": "786be238",
   "metadata": {},
   "outputs": [],
   "source": [
    "df = pd.read_csv(r\"E:\\Cricket Dataset\\Virat-Kohli-International-Cricket-Centuries.csv\")"
   ]
  },
  {
   "cell_type": "code",
   "execution_count": 208,
   "id": "163ab361",
   "metadata": {},
   "outputs": [
    {
     "data": {
      "text/html": [
       "<div>\n",
       "<style scoped>\n",
       "    .dataframe tbody tr th:only-of-type {\n",
       "        vertical-align: middle;\n",
       "    }\n",
       "\n",
       "    .dataframe tbody tr th {\n",
       "        vertical-align: top;\n",
       "    }\n",
       "\n",
       "    .dataframe thead th {\n",
       "        text-align: right;\n",
       "    }\n",
       "</style>\n",
       "<table border=\"1\" class=\"dataframe\">\n",
       "  <thead>\n",
       "    <tr style=\"text-align: right;\">\n",
       "      <th></th>\n",
       "      <th>No.</th>\n",
       "      <th>Runs</th>\n",
       "      <th>Against</th>\n",
       "      <th>Position</th>\n",
       "      <th>Innings</th>\n",
       "      <th>Venue</th>\n",
       "      <th>Ground</th>\n",
       "      <th>Date</th>\n",
       "      <th>Result</th>\n",
       "    </tr>\n",
       "  </thead>\n",
       "  <tbody>\n",
       "    <tr>\n",
       "      <th>0</th>\n",
       "      <td>1</td>\n",
       "      <td>107</td>\n",
       "      <td>Sri Lanka</td>\n",
       "      <td>4</td>\n",
       "      <td>2</td>\n",
       "      <td>Eden Gardens, Kolkata</td>\n",
       "      <td>Home</td>\n",
       "      <td>24-Dec-09</td>\n",
       "      <td>Won</td>\n",
       "    </tr>\n",
       "    <tr>\n",
       "      <th>1</th>\n",
       "      <td>2</td>\n",
       "      <td>102*</td>\n",
       "      <td>Bangladesh</td>\n",
       "      <td>3</td>\n",
       "      <td>2</td>\n",
       "      <td>Sher-e-Bangla Cricket Stadium, Dhaka</td>\n",
       "      <td>Away</td>\n",
       "      <td>11-Jan-10</td>\n",
       "      <td>Won</td>\n",
       "    </tr>\n",
       "    <tr>\n",
       "      <th>2</th>\n",
       "      <td>3</td>\n",
       "      <td>118</td>\n",
       "      <td>Australia</td>\n",
       "      <td>3</td>\n",
       "      <td>2</td>\n",
       "      <td>APCA-VDCA Stadium, Visakhapatnam</td>\n",
       "      <td>Home</td>\n",
       "      <td>20-Oct-10</td>\n",
       "      <td>Won</td>\n",
       "    </tr>\n",
       "    <tr>\n",
       "      <th>3</th>\n",
       "      <td>4</td>\n",
       "      <td>105</td>\n",
       "      <td>New Zealand</td>\n",
       "      <td>3</td>\n",
       "      <td>1</td>\n",
       "      <td>Nehru Stadium, Guwahati</td>\n",
       "      <td>Home</td>\n",
       "      <td>28-Nov-10</td>\n",
       "      <td>Won</td>\n",
       "    </tr>\n",
       "    <tr>\n",
       "      <th>4</th>\n",
       "      <td>5</td>\n",
       "      <td>100*</td>\n",
       "      <td>Bangladesh</td>\n",
       "      <td>4</td>\n",
       "      <td>1</td>\n",
       "      <td>Sher-e-Bangla Cricket Stadium, Dhaka</td>\n",
       "      <td>Away</td>\n",
       "      <td>19-Feb-11</td>\n",
       "      <td>Won</td>\n",
       "    </tr>\n",
       "    <tr>\n",
       "      <th>...</th>\n",
       "      <td>...</td>\n",
       "      <td>...</td>\n",
       "      <td>...</td>\n",
       "      <td>...</td>\n",
       "      <td>...</td>\n",
       "      <td>...</td>\n",
       "      <td>...</td>\n",
       "      <td>...</td>\n",
       "      <td>...</td>\n",
       "    </tr>\n",
       "    <tr>\n",
       "      <th>70</th>\n",
       "      <td>71</td>\n",
       "      <td>122*</td>\n",
       "      <td>Afghanistan</td>\n",
       "      <td>2</td>\n",
       "      <td>1</td>\n",
       "      <td>Dubai International Cricket Stadium, Dubai</td>\n",
       "      <td>Neutral</td>\n",
       "      <td>08-Sep-22</td>\n",
       "      <td>Won</td>\n",
       "    </tr>\n",
       "    <tr>\n",
       "      <th>71</th>\n",
       "      <td>72</td>\n",
       "      <td>113</td>\n",
       "      <td>Bangladesh</td>\n",
       "      <td>3</td>\n",
       "      <td>1</td>\n",
       "      <td>Zohur Ahmed Chowdhury Stadium, Chittagong</td>\n",
       "      <td>Away</td>\n",
       "      <td>10-Dec-22</td>\n",
       "      <td>Won</td>\n",
       "    </tr>\n",
       "    <tr>\n",
       "      <th>72</th>\n",
       "      <td>73</td>\n",
       "      <td>113</td>\n",
       "      <td>Sri Lanka</td>\n",
       "      <td>3</td>\n",
       "      <td>1</td>\n",
       "      <td>ACA Stadium, Guwahati</td>\n",
       "      <td>Home</td>\n",
       "      <td>10-Jan-23</td>\n",
       "      <td>Won</td>\n",
       "    </tr>\n",
       "    <tr>\n",
       "      <th>73</th>\n",
       "      <td>74</td>\n",
       "      <td>166*</td>\n",
       "      <td>Sri Lanka</td>\n",
       "      <td>3</td>\n",
       "      <td>1</td>\n",
       "      <td>Greenfield International Stadium, Thiruvananth...</td>\n",
       "      <td>Home</td>\n",
       "      <td>15-Jan-23</td>\n",
       "      <td>Won</td>\n",
       "    </tr>\n",
       "    <tr>\n",
       "      <th>74</th>\n",
       "      <td>75</td>\n",
       "      <td>186</td>\n",
       "      <td>Australia</td>\n",
       "      <td>4</td>\n",
       "      <td>2</td>\n",
       "      <td>Narendra Modi Stadium, Ahmedabad</td>\n",
       "      <td>Home</td>\n",
       "      <td>09-Mar-23</td>\n",
       "      <td>Drawn</td>\n",
       "    </tr>\n",
       "  </tbody>\n",
       "</table>\n",
       "<p>75 rows × 9 columns</p>\n",
       "</div>"
      ],
      "text/plain": [
       "    No.   Runs       Against  Position  Innings  \\\n",
       "0     1    107     Sri Lanka         4        2   \n",
       "1     2  102*     Bangladesh         3        2   \n",
       "2     3    118     Australia         3        2   \n",
       "3     4    105   New Zealand         3        1   \n",
       "4     5   100*    Bangladesh         4        1   \n",
       "..  ...    ...           ...       ...      ...   \n",
       "70   71   122*   Afghanistan         2        1   \n",
       "71   72    113    Bangladesh         3        1   \n",
       "72   73    113     Sri Lanka         3        1   \n",
       "73   74  166*      Sri Lanka         3        1   \n",
       "74   75    186     Australia         4        2   \n",
       "\n",
       "                                                Venue   Ground       Date  \\\n",
       "0                               Eden Gardens, Kolkata     Home  24-Dec-09   \n",
       "1                Sher-e-Bangla Cricket Stadium, Dhaka     Away  11-Jan-10   \n",
       "2                    APCA-VDCA Stadium, Visakhapatnam     Home  20-Oct-10   \n",
       "3                             Nehru Stadium, Guwahati     Home  28-Nov-10   \n",
       "4                Sher-e-Bangla Cricket Stadium, Dhaka     Away  19-Feb-11   \n",
       "..                                                ...      ...        ...   \n",
       "70         Dubai International Cricket Stadium, Dubai  Neutral  08-Sep-22   \n",
       "71          Zohur Ahmed Chowdhury Stadium, Chittagong     Away  10-Dec-22   \n",
       "72                              ACA Stadium, Guwahati     Home  10-Jan-23   \n",
       "73  Greenfield International Stadium, Thiruvananth...     Home  15-Jan-23   \n",
       "74                   Narendra Modi Stadium, Ahmedabad     Home  09-Mar-23   \n",
       "\n",
       "   Result  \n",
       "0     Won  \n",
       "1     Won  \n",
       "2     Won  \n",
       "3     Won  \n",
       "4     Won  \n",
       "..    ...  \n",
       "70    Won  \n",
       "71    Won  \n",
       "72    Won  \n",
       "73    Won  \n",
       "74  Drawn  \n",
       "\n",
       "[75 rows x 9 columns]"
      ]
     },
     "execution_count": 208,
     "metadata": {},
     "output_type": "execute_result"
    }
   ],
   "source": [
    "df"
   ]
  },
  {
   "cell_type": "code",
   "execution_count": 209,
   "id": "7119a872",
   "metadata": {},
   "outputs": [
    {
     "data": {
      "text/html": [
       "<div>\n",
       "<style scoped>\n",
       "    .dataframe tbody tr th:only-of-type {\n",
       "        vertical-align: middle;\n",
       "    }\n",
       "\n",
       "    .dataframe tbody tr th {\n",
       "        vertical-align: top;\n",
       "    }\n",
       "\n",
       "    .dataframe thead th {\n",
       "        text-align: right;\n",
       "    }\n",
       "</style>\n",
       "<table border=\"1\" class=\"dataframe\">\n",
       "  <thead>\n",
       "    <tr style=\"text-align: right;\">\n",
       "      <th></th>\n",
       "      <th>No.</th>\n",
       "      <th>Runs</th>\n",
       "      <th>Against</th>\n",
       "      <th>Position</th>\n",
       "      <th>Innings</th>\n",
       "      <th>Venue</th>\n",
       "      <th>Ground</th>\n",
       "      <th>Date</th>\n",
       "      <th>Result</th>\n",
       "    </tr>\n",
       "  </thead>\n",
       "  <tbody>\n",
       "    <tr>\n",
       "      <th>0</th>\n",
       "      <td>1</td>\n",
       "      <td>107</td>\n",
       "      <td>Sri Lanka</td>\n",
       "      <td>4</td>\n",
       "      <td>2</td>\n",
       "      <td>Eden Gardens, Kolkata</td>\n",
       "      <td>Home</td>\n",
       "      <td>24-Dec-09</td>\n",
       "      <td>Won</td>\n",
       "    </tr>\n",
       "    <tr>\n",
       "      <th>1</th>\n",
       "      <td>2</td>\n",
       "      <td>102*</td>\n",
       "      <td>Bangladesh</td>\n",
       "      <td>3</td>\n",
       "      <td>2</td>\n",
       "      <td>Sher-e-Bangla Cricket Stadium, Dhaka</td>\n",
       "      <td>Away</td>\n",
       "      <td>11-Jan-10</td>\n",
       "      <td>Won</td>\n",
       "    </tr>\n",
       "    <tr>\n",
       "      <th>2</th>\n",
       "      <td>3</td>\n",
       "      <td>118</td>\n",
       "      <td>Australia</td>\n",
       "      <td>3</td>\n",
       "      <td>2</td>\n",
       "      <td>APCA-VDCA Stadium, Visakhapatnam</td>\n",
       "      <td>Home</td>\n",
       "      <td>20-Oct-10</td>\n",
       "      <td>Won</td>\n",
       "    </tr>\n",
       "    <tr>\n",
       "      <th>3</th>\n",
       "      <td>4</td>\n",
       "      <td>105</td>\n",
       "      <td>New Zealand</td>\n",
       "      <td>3</td>\n",
       "      <td>1</td>\n",
       "      <td>Nehru Stadium, Guwahati</td>\n",
       "      <td>Home</td>\n",
       "      <td>28-Nov-10</td>\n",
       "      <td>Won</td>\n",
       "    </tr>\n",
       "    <tr>\n",
       "      <th>4</th>\n",
       "      <td>5</td>\n",
       "      <td>100*</td>\n",
       "      <td>Bangladesh</td>\n",
       "      <td>4</td>\n",
       "      <td>1</td>\n",
       "      <td>Sher-e-Bangla Cricket Stadium, Dhaka</td>\n",
       "      <td>Away</td>\n",
       "      <td>19-Feb-11</td>\n",
       "      <td>Won</td>\n",
       "    </tr>\n",
       "  </tbody>\n",
       "</table>\n",
       "</div>"
      ],
      "text/plain": [
       "   No.   Runs       Against  Position  Innings  \\\n",
       "0    1    107     Sri Lanka         4        2   \n",
       "1    2  102*     Bangladesh         3        2   \n",
       "2    3    118     Australia         3        2   \n",
       "3    4    105   New Zealand         3        1   \n",
       "4    5   100*    Bangladesh         4        1   \n",
       "\n",
       "                                  Venue Ground       Date Result  \n",
       "0                 Eden Gardens, Kolkata   Home  24-Dec-09    Won  \n",
       "1  Sher-e-Bangla Cricket Stadium, Dhaka   Away  11-Jan-10    Won  \n",
       "2      APCA-VDCA Stadium, Visakhapatnam   Home  20-Oct-10    Won  \n",
       "3               Nehru Stadium, Guwahati   Home  28-Nov-10    Won  \n",
       "4  Sher-e-Bangla Cricket Stadium, Dhaka   Away  19-Feb-11    Won  "
      ]
     },
     "execution_count": 209,
     "metadata": {},
     "output_type": "execute_result"
    }
   ],
   "source": [
    "df.head()"
   ]
  },
  {
   "cell_type": "code",
   "execution_count": 210,
   "id": "c7ae2902",
   "metadata": {},
   "outputs": [
    {
     "data": {
      "text/plain": [
       "(75, 9)"
      ]
     },
     "execution_count": 210,
     "metadata": {},
     "output_type": "execute_result"
    }
   ],
   "source": [
    "df.shape"
   ]
  },
  {
   "cell_type": "markdown",
   "id": "5a3dd715",
   "metadata": {},
   "source": [
    "## Data Cleaning"
   ]
  },
  {
   "cell_type": "code",
   "execution_count": 211,
   "id": "9af10b4b",
   "metadata": {},
   "outputs": [
    {
     "name": "stdout",
     "output_type": "stream",
     "text": [
      "<class 'pandas.core.frame.DataFrame'>\n",
      "RangeIndex: 75 entries, 0 to 74\n",
      "Data columns (total 9 columns):\n",
      " #   Column    Non-Null Count  Dtype \n",
      "---  ------    --------------  ----- \n",
      " 0   No.       75 non-null     int64 \n",
      " 1   Runs      75 non-null     object\n",
      " 2   Against   75 non-null     object\n",
      " 3   Position  75 non-null     int64 \n",
      " 4   Innings   75 non-null     int64 \n",
      " 5   Venue     75 non-null     object\n",
      " 6   Ground    75 non-null     object\n",
      " 7   Date      75 non-null     object\n",
      " 8   Result    75 non-null     object\n",
      "dtypes: int64(3), object(6)\n",
      "memory usage: 5.4+ KB\n"
     ]
    }
   ],
   "source": [
    "df.info()"
   ]
  },
  {
   "cell_type": "code",
   "execution_count": 212,
   "id": "7ec6d245",
   "metadata": {},
   "outputs": [
    {
     "data": {
      "text/plain": [
       "No.         0\n",
       "Runs        0\n",
       "Against     0\n",
       "Position    0\n",
       "Innings     0\n",
       "Venue       0\n",
       "Ground      0\n",
       "Date        0\n",
       "Result      0\n",
       "dtype: int64"
      ]
     },
     "execution_count": 212,
     "metadata": {},
     "output_type": "execute_result"
    }
   ],
   "source": [
    "pd.isnull(df).sum()"
   ]
  },
  {
   "cell_type": "code",
   "execution_count": 213,
   "id": "66e665e6",
   "metadata": {},
   "outputs": [],
   "source": [
    "df['Date'] = pd.to_datetime(df['Date'])"
   ]
  },
  {
   "cell_type": "code",
   "execution_count": 214,
   "id": "c3fe1fad",
   "metadata": {},
   "outputs": [
    {
     "data": {
      "text/html": [
       "<div>\n",
       "<style scoped>\n",
       "    .dataframe tbody tr th:only-of-type {\n",
       "        vertical-align: middle;\n",
       "    }\n",
       "\n",
       "    .dataframe tbody tr th {\n",
       "        vertical-align: top;\n",
       "    }\n",
       "\n",
       "    .dataframe thead th {\n",
       "        text-align: right;\n",
       "    }\n",
       "</style>\n",
       "<table border=\"1\" class=\"dataframe\">\n",
       "  <thead>\n",
       "    <tr style=\"text-align: right;\">\n",
       "      <th></th>\n",
       "      <th>No.</th>\n",
       "      <th>Runs</th>\n",
       "      <th>Against</th>\n",
       "      <th>Position</th>\n",
       "      <th>Innings</th>\n",
       "      <th>Venue</th>\n",
       "      <th>Ground</th>\n",
       "      <th>Date</th>\n",
       "      <th>Result</th>\n",
       "    </tr>\n",
       "  </thead>\n",
       "  <tbody>\n",
       "    <tr>\n",
       "      <th>0</th>\n",
       "      <td>1</td>\n",
       "      <td>107</td>\n",
       "      <td>Sri Lanka</td>\n",
       "      <td>4</td>\n",
       "      <td>2</td>\n",
       "      <td>Eden Gardens, Kolkata</td>\n",
       "      <td>Home</td>\n",
       "      <td>2009-12-24</td>\n",
       "      <td>Won</td>\n",
       "    </tr>\n",
       "    <tr>\n",
       "      <th>1</th>\n",
       "      <td>2</td>\n",
       "      <td>102*</td>\n",
       "      <td>Bangladesh</td>\n",
       "      <td>3</td>\n",
       "      <td>2</td>\n",
       "      <td>Sher-e-Bangla Cricket Stadium, Dhaka</td>\n",
       "      <td>Away</td>\n",
       "      <td>2010-01-11</td>\n",
       "      <td>Won</td>\n",
       "    </tr>\n",
       "    <tr>\n",
       "      <th>2</th>\n",
       "      <td>3</td>\n",
       "      <td>118</td>\n",
       "      <td>Australia</td>\n",
       "      <td>3</td>\n",
       "      <td>2</td>\n",
       "      <td>APCA-VDCA Stadium, Visakhapatnam</td>\n",
       "      <td>Home</td>\n",
       "      <td>2010-10-20</td>\n",
       "      <td>Won</td>\n",
       "    </tr>\n",
       "    <tr>\n",
       "      <th>3</th>\n",
       "      <td>4</td>\n",
       "      <td>105</td>\n",
       "      <td>New Zealand</td>\n",
       "      <td>3</td>\n",
       "      <td>1</td>\n",
       "      <td>Nehru Stadium, Guwahati</td>\n",
       "      <td>Home</td>\n",
       "      <td>2010-11-28</td>\n",
       "      <td>Won</td>\n",
       "    </tr>\n",
       "    <tr>\n",
       "      <th>4</th>\n",
       "      <td>5</td>\n",
       "      <td>100*</td>\n",
       "      <td>Bangladesh</td>\n",
       "      <td>4</td>\n",
       "      <td>1</td>\n",
       "      <td>Sher-e-Bangla Cricket Stadium, Dhaka</td>\n",
       "      <td>Away</td>\n",
       "      <td>2011-02-19</td>\n",
       "      <td>Won</td>\n",
       "    </tr>\n",
       "  </tbody>\n",
       "</table>\n",
       "</div>"
      ],
      "text/plain": [
       "   No.   Runs       Against  Position  Innings  \\\n",
       "0    1    107     Sri Lanka         4        2   \n",
       "1    2  102*     Bangladesh         3        2   \n",
       "2    3    118     Australia         3        2   \n",
       "3    4    105   New Zealand         3        1   \n",
       "4    5   100*    Bangladesh         4        1   \n",
       "\n",
       "                                  Venue Ground       Date Result  \n",
       "0                 Eden Gardens, Kolkata   Home 2009-12-24    Won  \n",
       "1  Sher-e-Bangla Cricket Stadium, Dhaka   Away 2010-01-11    Won  \n",
       "2      APCA-VDCA Stadium, Visakhapatnam   Home 2010-10-20    Won  \n",
       "3               Nehru Stadium, Guwahati   Home 2010-11-28    Won  \n",
       "4  Sher-e-Bangla Cricket Stadium, Dhaka   Away 2011-02-19    Won  "
      ]
     },
     "execution_count": 214,
     "metadata": {},
     "output_type": "execute_result"
    }
   ],
   "source": [
    "df.head()"
   ]
  },
  {
   "cell_type": "code",
   "execution_count": 215,
   "id": "bb98dfd1",
   "metadata": {},
   "outputs": [],
   "source": [
    "def check_star(Runs):\n",
    "    if '*' in Runs:\n",
    "        return 'Not Out'\n",
    "    else:\n",
    "        return 'Out'"
   ]
  },
  {
   "cell_type": "code",
   "execution_count": 216,
   "id": "2fbdbbe0",
   "metadata": {},
   "outputs": [],
   "source": [
    "df['Status'] = df['Runs'].apply(check_star)"
   ]
  },
  {
   "cell_type": "code",
   "execution_count": 217,
   "id": "7b15578e",
   "metadata": {},
   "outputs": [
    {
     "data": {
      "text/html": [
       "<div>\n",
       "<style scoped>\n",
       "    .dataframe tbody tr th:only-of-type {\n",
       "        vertical-align: middle;\n",
       "    }\n",
       "\n",
       "    .dataframe tbody tr th {\n",
       "        vertical-align: top;\n",
       "    }\n",
       "\n",
       "    .dataframe thead th {\n",
       "        text-align: right;\n",
       "    }\n",
       "</style>\n",
       "<table border=\"1\" class=\"dataframe\">\n",
       "  <thead>\n",
       "    <tr style=\"text-align: right;\">\n",
       "      <th></th>\n",
       "      <th>No.</th>\n",
       "      <th>Runs</th>\n",
       "      <th>Against</th>\n",
       "      <th>Position</th>\n",
       "      <th>Innings</th>\n",
       "      <th>Venue</th>\n",
       "      <th>Ground</th>\n",
       "      <th>Date</th>\n",
       "      <th>Result</th>\n",
       "      <th>Status</th>\n",
       "    </tr>\n",
       "  </thead>\n",
       "  <tbody>\n",
       "    <tr>\n",
       "      <th>0</th>\n",
       "      <td>1</td>\n",
       "      <td>107</td>\n",
       "      <td>Sri Lanka</td>\n",
       "      <td>4</td>\n",
       "      <td>2</td>\n",
       "      <td>Eden Gardens, Kolkata</td>\n",
       "      <td>Home</td>\n",
       "      <td>2009-12-24</td>\n",
       "      <td>Won</td>\n",
       "      <td>Out</td>\n",
       "    </tr>\n",
       "    <tr>\n",
       "      <th>1</th>\n",
       "      <td>2</td>\n",
       "      <td>102*</td>\n",
       "      <td>Bangladesh</td>\n",
       "      <td>3</td>\n",
       "      <td>2</td>\n",
       "      <td>Sher-e-Bangla Cricket Stadium, Dhaka</td>\n",
       "      <td>Away</td>\n",
       "      <td>2010-01-11</td>\n",
       "      <td>Won</td>\n",
       "      <td>Not Out</td>\n",
       "    </tr>\n",
       "    <tr>\n",
       "      <th>2</th>\n",
       "      <td>3</td>\n",
       "      <td>118</td>\n",
       "      <td>Australia</td>\n",
       "      <td>3</td>\n",
       "      <td>2</td>\n",
       "      <td>APCA-VDCA Stadium, Visakhapatnam</td>\n",
       "      <td>Home</td>\n",
       "      <td>2010-10-20</td>\n",
       "      <td>Won</td>\n",
       "      <td>Out</td>\n",
       "    </tr>\n",
       "    <tr>\n",
       "      <th>3</th>\n",
       "      <td>4</td>\n",
       "      <td>105</td>\n",
       "      <td>New Zealand</td>\n",
       "      <td>3</td>\n",
       "      <td>1</td>\n",
       "      <td>Nehru Stadium, Guwahati</td>\n",
       "      <td>Home</td>\n",
       "      <td>2010-11-28</td>\n",
       "      <td>Won</td>\n",
       "      <td>Out</td>\n",
       "    </tr>\n",
       "    <tr>\n",
       "      <th>4</th>\n",
       "      <td>5</td>\n",
       "      <td>100*</td>\n",
       "      <td>Bangladesh</td>\n",
       "      <td>4</td>\n",
       "      <td>1</td>\n",
       "      <td>Sher-e-Bangla Cricket Stadium, Dhaka</td>\n",
       "      <td>Away</td>\n",
       "      <td>2011-02-19</td>\n",
       "      <td>Won</td>\n",
       "      <td>Not Out</td>\n",
       "    </tr>\n",
       "  </tbody>\n",
       "</table>\n",
       "</div>"
      ],
      "text/plain": [
       "   No.   Runs       Against  Position  Innings  \\\n",
       "0    1    107     Sri Lanka         4        2   \n",
       "1    2  102*     Bangladesh         3        2   \n",
       "2    3    118     Australia         3        2   \n",
       "3    4    105   New Zealand         3        1   \n",
       "4    5   100*    Bangladesh         4        1   \n",
       "\n",
       "                                  Venue Ground       Date Result   Status  \n",
       "0                 Eden Gardens, Kolkata   Home 2009-12-24    Won      Out  \n",
       "1  Sher-e-Bangla Cricket Stadium, Dhaka   Away 2010-01-11    Won  Not Out  \n",
       "2      APCA-VDCA Stadium, Visakhapatnam   Home 2010-10-20    Won      Out  \n",
       "3               Nehru Stadium, Guwahati   Home 2010-11-28    Won      Out  \n",
       "4  Sher-e-Bangla Cricket Stadium, Dhaka   Away 2011-02-19    Won  Not Out  "
      ]
     },
     "execution_count": 217,
     "metadata": {},
     "output_type": "execute_result"
    }
   ],
   "source": [
    "df.head()"
   ]
  },
  {
   "cell_type": "code",
   "execution_count": 218,
   "id": "ad3b1521",
   "metadata": {},
   "outputs": [],
   "source": [
    "df['Runs'] = df['Runs'].str.replace(r'\\*', '', regex=True)"
   ]
  },
  {
   "cell_type": "code",
   "execution_count": 237,
   "id": "6ae6cffe",
   "metadata": {},
   "outputs": [
    {
     "data": {
      "text/html": [
       "<div>\n",
       "<style scoped>\n",
       "    .dataframe tbody tr th:only-of-type {\n",
       "        vertical-align: middle;\n",
       "    }\n",
       "\n",
       "    .dataframe tbody tr th {\n",
       "        vertical-align: top;\n",
       "    }\n",
       "\n",
       "    .dataframe thead th {\n",
       "        text-align: right;\n",
       "    }\n",
       "</style>\n",
       "<table border=\"1\" class=\"dataframe\">\n",
       "  <thead>\n",
       "    <tr style=\"text-align: right;\">\n",
       "      <th></th>\n",
       "      <th>No.</th>\n",
       "      <th>Runs</th>\n",
       "      <th>Against</th>\n",
       "      <th>Position</th>\n",
       "      <th>Innings</th>\n",
       "      <th>Venue</th>\n",
       "      <th>Ground</th>\n",
       "      <th>Date</th>\n",
       "      <th>Result</th>\n",
       "      <th>Status</th>\n",
       "      <th>Year</th>\n",
       "    </tr>\n",
       "  </thead>\n",
       "  <tbody>\n",
       "    <tr>\n",
       "      <th>0</th>\n",
       "      <td>1</td>\n",
       "      <td>107</td>\n",
       "      <td>Sri Lanka</td>\n",
       "      <td>4</td>\n",
       "      <td>2</td>\n",
       "      <td>Eden Gardens, Kolkata</td>\n",
       "      <td>Home</td>\n",
       "      <td>2009-12-24</td>\n",
       "      <td>Won</td>\n",
       "      <td>Out</td>\n",
       "      <td>2009</td>\n",
       "    </tr>\n",
       "    <tr>\n",
       "      <th>1</th>\n",
       "      <td>2</td>\n",
       "      <td>102</td>\n",
       "      <td>Bangladesh</td>\n",
       "      <td>3</td>\n",
       "      <td>2</td>\n",
       "      <td>Sher-e-Bangla Cricket Stadium, Dhaka</td>\n",
       "      <td>Away</td>\n",
       "      <td>2010-01-11</td>\n",
       "      <td>Won</td>\n",
       "      <td>Not Out</td>\n",
       "      <td>2010</td>\n",
       "    </tr>\n",
       "    <tr>\n",
       "      <th>2</th>\n",
       "      <td>3</td>\n",
       "      <td>118</td>\n",
       "      <td>Australia</td>\n",
       "      <td>3</td>\n",
       "      <td>2</td>\n",
       "      <td>APCA-VDCA Stadium, Visakhapatnam</td>\n",
       "      <td>Home</td>\n",
       "      <td>2010-10-20</td>\n",
       "      <td>Won</td>\n",
       "      <td>Out</td>\n",
       "      <td>2010</td>\n",
       "    </tr>\n",
       "    <tr>\n",
       "      <th>3</th>\n",
       "      <td>4</td>\n",
       "      <td>105</td>\n",
       "      <td>New Zealand</td>\n",
       "      <td>3</td>\n",
       "      <td>1</td>\n",
       "      <td>Nehru Stadium, Guwahati</td>\n",
       "      <td>Home</td>\n",
       "      <td>2010-11-28</td>\n",
       "      <td>Won</td>\n",
       "      <td>Out</td>\n",
       "      <td>2010</td>\n",
       "    </tr>\n",
       "    <tr>\n",
       "      <th>4</th>\n",
       "      <td>5</td>\n",
       "      <td>100</td>\n",
       "      <td>Bangladesh</td>\n",
       "      <td>4</td>\n",
       "      <td>1</td>\n",
       "      <td>Sher-e-Bangla Cricket Stadium, Dhaka</td>\n",
       "      <td>Away</td>\n",
       "      <td>2011-02-19</td>\n",
       "      <td>Won</td>\n",
       "      <td>Not Out</td>\n",
       "      <td>2011</td>\n",
       "    </tr>\n",
       "  </tbody>\n",
       "</table>\n",
       "</div>"
      ],
      "text/plain": [
       "   No.  Runs       Against  Position  Innings  \\\n",
       "0    1   107     Sri Lanka         4        2   \n",
       "1    2   102    Bangladesh         3        2   \n",
       "2    3   118     Australia         3        2   \n",
       "3    4   105   New Zealand         3        1   \n",
       "4    5   100    Bangladesh         4        1   \n",
       "\n",
       "                                  Venue Ground       Date Result   Status  \\\n",
       "0                 Eden Gardens, Kolkata   Home 2009-12-24    Won      Out   \n",
       "1  Sher-e-Bangla Cricket Stadium, Dhaka   Away 2010-01-11    Won  Not Out   \n",
       "2      APCA-VDCA Stadium, Visakhapatnam   Home 2010-10-20    Won      Out   \n",
       "3               Nehru Stadium, Guwahati   Home 2010-11-28    Won      Out   \n",
       "4  Sher-e-Bangla Cricket Stadium, Dhaka   Away 2011-02-19    Won  Not Out   \n",
       "\n",
       "   Year  \n",
       "0  2009  \n",
       "1  2010  \n",
       "2  2010  \n",
       "3  2010  \n",
       "4  2011  "
      ]
     },
     "execution_count": 237,
     "metadata": {},
     "output_type": "execute_result"
    }
   ],
   "source": [
    "df.head()"
   ]
  },
  {
   "cell_type": "code",
   "execution_count": 238,
   "id": "0e74f418",
   "metadata": {},
   "outputs": [],
   "source": [
    "df[\"Runs\"] = df[\"Runs\"].astype('int')"
   ]
  },
  {
   "cell_type": "code",
   "execution_count": 239,
   "id": "060e3f6c",
   "metadata": {},
   "outputs": [],
   "source": [
    "df['Year'] = df['Date'].dt.year"
   ]
  },
  {
   "cell_type": "code",
   "execution_count": 240,
   "id": "abab488f",
   "metadata": {},
   "outputs": [
    {
     "data": {
      "text/plain": [
       "(75, 11)"
      ]
     },
     "execution_count": 240,
     "metadata": {},
     "output_type": "execute_result"
    }
   ],
   "source": [
    "df.shape"
   ]
  },
  {
   "cell_type": "code",
   "execution_count": 223,
   "id": "d722f8e2",
   "metadata": {},
   "outputs": [
    {
     "data": {
      "text/html": [
       "<div>\n",
       "<style scoped>\n",
       "    .dataframe tbody tr th:only-of-type {\n",
       "        vertical-align: middle;\n",
       "    }\n",
       "\n",
       "    .dataframe tbody tr th {\n",
       "        vertical-align: top;\n",
       "    }\n",
       "\n",
       "    .dataframe thead th {\n",
       "        text-align: right;\n",
       "    }\n",
       "</style>\n",
       "<table border=\"1\" class=\"dataframe\">\n",
       "  <thead>\n",
       "    <tr style=\"text-align: right;\">\n",
       "      <th></th>\n",
       "      <th>No.</th>\n",
       "      <th>Runs</th>\n",
       "      <th>Position</th>\n",
       "      <th>Innings</th>\n",
       "      <th>Year</th>\n",
       "    </tr>\n",
       "  </thead>\n",
       "  <tbody>\n",
       "    <tr>\n",
       "      <th>count</th>\n",
       "      <td>75.000000</td>\n",
       "      <td>75.0000</td>\n",
       "      <td>75.000000</td>\n",
       "      <td>75.000000</td>\n",
       "      <td>75.000000</td>\n",
       "    </tr>\n",
       "    <tr>\n",
       "      <th>mean</th>\n",
       "      <td>38.000000</td>\n",
       "      <td>132.8000</td>\n",
       "      <td>3.520000</td>\n",
       "      <td>1.706667</td>\n",
       "      <td>2015.626667</td>\n",
       "    </tr>\n",
       "    <tr>\n",
       "      <th>std</th>\n",
       "      <td>21.794495</td>\n",
       "      <td>35.8337</td>\n",
       "      <td>0.664953</td>\n",
       "      <td>0.673300</td>\n",
       "      <td>3.291157</td>\n",
       "    </tr>\n",
       "    <tr>\n",
       "      <th>min</th>\n",
       "      <td>1.000000</td>\n",
       "      <td>100.0000</td>\n",
       "      <td>2.000000</td>\n",
       "      <td>1.000000</td>\n",
       "      <td>2009.000000</td>\n",
       "    </tr>\n",
       "    <tr>\n",
       "      <th>25%</th>\n",
       "      <td>19.500000</td>\n",
       "      <td>107.0000</td>\n",
       "      <td>3.000000</td>\n",
       "      <td>1.000000</td>\n",
       "      <td>2013.000000</td>\n",
       "    </tr>\n",
       "    <tr>\n",
       "      <th>50%</th>\n",
       "      <td>38.000000</td>\n",
       "      <td>119.0000</td>\n",
       "      <td>3.000000</td>\n",
       "      <td>2.000000</td>\n",
       "      <td>2016.000000</td>\n",
       "    </tr>\n",
       "    <tr>\n",
       "      <th>75%</th>\n",
       "      <td>56.500000</td>\n",
       "      <td>140.5000</td>\n",
       "      <td>4.000000</td>\n",
       "      <td>2.000000</td>\n",
       "      <td>2018.000000</td>\n",
       "    </tr>\n",
       "    <tr>\n",
       "      <th>max</th>\n",
       "      <td>75.000000</td>\n",
       "      <td>254.0000</td>\n",
       "      <td>6.000000</td>\n",
       "      <td>4.000000</td>\n",
       "      <td>2023.000000</td>\n",
       "    </tr>\n",
       "  </tbody>\n",
       "</table>\n",
       "</div>"
      ],
      "text/plain": [
       "             No.      Runs   Position    Innings         Year\n",
       "count  75.000000   75.0000  75.000000  75.000000    75.000000\n",
       "mean   38.000000  132.8000   3.520000   1.706667  2015.626667\n",
       "std    21.794495   35.8337   0.664953   0.673300     3.291157\n",
       "min     1.000000  100.0000   2.000000   1.000000  2009.000000\n",
       "25%    19.500000  107.0000   3.000000   1.000000  2013.000000\n",
       "50%    38.000000  119.0000   3.000000   2.000000  2016.000000\n",
       "75%    56.500000  140.5000   4.000000   2.000000  2018.000000\n",
       "max    75.000000  254.0000   6.000000   4.000000  2023.000000"
      ]
     },
     "execution_count": 223,
     "metadata": {},
     "output_type": "execute_result"
    }
   ],
   "source": [
    "df.describe()"
   ]
  },
  {
   "cell_type": "markdown",
   "id": "ca62fb32",
   "metadata": {},
   "source": [
    "## Data Exploration"
   ]
  },
  {
   "cell_type": "markdown",
   "id": "7e7fdb9f",
   "metadata": {},
   "source": [
    "### Observing the status "
   ]
  },
  {
   "cell_type": "code",
   "execution_count": 224,
   "id": "90102d48",
   "metadata": {},
   "outputs": [
    {
     "data": {
      "image/png": "[encoded data removed]",
      "text/plain": [
       "<Figure size 1500x500 with 1 Axes>"
      ]
     },
     "metadata": {},
     "output_type": "display_data"
    }
   ],
   "source": [
    "ax = sns.countplot(x='Status', data=df)\n",
    "\n",
    "for i in ax.containers:\n",
    "    ax.bar_label(i)"
   ]
  },
  {
   "cell_type": "markdown",
   "id": "847e9451",
   "metadata": {},
   "source": [
    "From here, we conclude that out of total 75 innings when Virat scored a century, 21 times Virat batted till end and came not out."
   ]
  },
  {
   "cell_type": "markdown",
   "id": "0b32f030",
   "metadata": {},
   "source": [
    "### Observing the matches won"
   ]
  },
  {
   "cell_type": "code",
   "execution_count": 225,
   "id": "61fdd694",
   "metadata": {
    "scrolled": true
   },
   "outputs": [
    {
     "data": {
      "image/png": "[encoded data removed]",
      "text/plain": [
       "<Figure size 1500x500 with 1 Axes>"
      ]
     },
     "metadata": {},
     "output_type": "display_data"
    }
   ],
   "source": [
    "ax = sns.countplot(x='Result', data=df)\n",
    "\n",
    "for i in ax.containers:\n",
    "    ax.bar_label(i)"
   ]
  },
  {
   "cell_type": "markdown",
   "id": "533a88a6",
   "metadata": {},
   "source": [
    "From here, we conclude that out of 75 instances when virat scored a century, India has won 51 matches, thu whenever Virat Scors a century, India wins 68% of those matches."
   ]
  },
  {
   "cell_type": "markdown",
   "id": "ae3415de",
   "metadata": {},
   "source": [
    "### Observing the type of ground "
   ]
  },
  {
   "cell_type": "code",
   "execution_count": 226,
   "id": "ea23457e",
   "metadata": {},
   "outputs": [
    {
     "data": {
      "image/png": "[encoded data removed]",
      "text/plain": [
       "<Figure size 1500x500 with 1 Axes>"
      ]
     },
     "metadata": {},
     "output_type": "display_data"
    }
   ],
   "source": [
    "ax = sns.countplot(x='Ground', data=df)\n",
    "\n",
    "for i in ax.containers:\n",
    "    ax.bar_label(i)"
   ]
  },
  {
   "cell_type": "markdown",
   "id": "e36ea65f",
   "metadata": {},
   "source": [
    "From the above graph, we can conclude that Virat Kohli scores equal number of centuries, wether it is home ground or away ground. Centuries are not restricted on any one type of ground."
   ]
  },
  {
   "cell_type": "markdown",
   "id": "56bb27e5",
   "metadata": {},
   "source": [
    "### Observing the Innings of the match"
   ]
  },
  {
   "cell_type": "code",
   "execution_count": 227,
   "id": "96134fa9",
   "metadata": {},
   "outputs": [
    {
     "data": {
      "image/png": "[encoded data removed]",
      "text/plain": [
       "<Figure size 1500x500 with 1 Axes>"
      ]
     },
     "metadata": {},
     "output_type": "display_data"
    }
   ],
   "source": [
    "ax = sns.countplot(x='Innings', data=df)\n",
    "\n",
    "for i in ax.containers:\n",
    "    ax.bar_label(i)"
   ]
  },
  {
   "cell_type": "markdown",
   "id": "7fa3f8d1",
   "metadata": {},
   "source": [
    "From the above graph, we conclude that most of the centuries(ie, 41) have come in second innings of game,  be it Test, ODI or T20I. It can also be concluded that in the shortest format of game, 41 centuries of Virat have been come while chasing."
   ]
  },
  {
   "cell_type": "markdown",
   "id": "bcca2715",
   "metadata": {},
   "source": [
    "### Observing the Opposition Teams."
   ]
  },
  {
   "cell_type": "code",
   "execution_count": 228,
   "id": "7dfcb617",
   "metadata": {
    "scrolled": true
   },
   "outputs": [
    {
     "data": {
      "image/png": "[encoded data removed]",
      "text/plain": [
       "<Figure size 1500x500 with 1 Axes>"
      ]
     },
     "metadata": {},
     "output_type": "display_data"
    }
   ],
   "source": [
    "sns.set(rc={'figure.figsize':(15, 5)})\n",
    "ax = sns.countplot(x='Against', data=df)\n",
    "\n",
    "for i in ax.containers:\n",
    "    ax.bar_label(i)"
   ]
  },
  {
   "cell_type": "markdown",
   "id": "28f31270",
   "metadata": {},
   "source": [
    "From the above graph, it is concluded that, Virat scored most of his centuries against Australia(16)."
   ]
  },
  {
   "cell_type": "markdown",
   "id": "ca54fc88",
   "metadata": {},
   "source": [
    "### Observing the Venue of the match."
   ]
  },
  {
   "cell_type": "code",
   "execution_count": 229,
   "id": "3e63e07d",
   "metadata": {},
   "outputs": [
    {
     "data": {
      "image/png": "[encoded data removed]",
      "text/plain": [
       "<Figure size 1800x500 with 1 Axes>"
      ]
     },
     "metadata": {},
     "output_type": "display_data"
    }
   ],
   "source": [
    "sns.set(rc={'figure.figsize':(18, 5)})\n",
    "ax = sns.barplot(y=df['Venue'].value_counts()[:5].values, x=df['Venue'].value_counts()[:5].index)\n",
    "\n",
    "for i in ax.containers:\n",
    "    ax.bar_label(i)"
   ]
  },
  {
   "cell_type": "markdown",
   "id": "4cfd23c8",
   "metadata": {},
   "source": [
    "From the above graph, it is concluded that Virat scored most of his centuries on Adelaide Oval, Adelaide Ground."
   ]
  },
  {
   "cell_type": "markdown",
   "id": "43c10e6e",
   "metadata": {},
   "source": [
    "### Observing the Position where Virat plays."
   ]
  },
  {
   "cell_type": "code",
   "execution_count": 230,
   "id": "9c4114b0",
   "metadata": {},
   "outputs": [
    {
     "data": {
      "image/png": "[encoded data removed]",
      "text/plain": [
       "<Figure size 1500x500 with 1 Axes>"
      ]
     },
     "metadata": {},
     "output_type": "display_data"
    }
   ],
   "source": [
    "sns.set(rc={'figure.figsize':(15, 5)})\n",
    "ax = sns.countplot(x='Position', data=df)\n",
    "\n",
    "for i in ax.containers:\n",
    "    ax.bar_label(i)"
   ]
  },
  {
   "cell_type": "markdown",
   "id": "1d49e669",
   "metadata": {},
   "source": [
    "From the above graph, we conclude that most of the centuries Virat has scored have come in Number 3 and 4. Number 3 is mostly in ODIs and T20Is, while Number 4 is mostly in Tests."
   ]
  },
  {
   "cell_type": "markdown",
   "id": "59ab8a7f",
   "metadata": {},
   "source": [
    "### Observing the Year-wise Pattern."
   ]
  },
  {
   "cell_type": "code",
   "execution_count": 231,
   "id": "a6d770ea",
   "metadata": {},
   "outputs": [
    {
     "data": {
      "image/png": "[encoded data removed]",
      "text/plain": [
       "<Figure size 1500x500 with 1 Axes>"
      ]
     },
     "metadata": {},
     "output_type": "display_data"
    }
   ],
   "source": [
    "sns.set(rc={'figure.figsize':(15, 5)})\n",
    "ax = sns.countplot(x='Year', data=df)\n",
    "\n",
    "for i in ax.containers:\n",
    "    ax.bar_label(i)"
   ]
  },
  {
   "cell_type": "markdown",
   "id": "c0e4865a",
   "metadata": {},
   "source": [
    "From the above graph, we can conclude that peak years of Virat were 2017 and 2018 where he scored a total of 22 centuries (11 in each year) across all formats.\n",
    "Also it can be observed that 2020 and 2021 were the two years where Virat scored no centuries at all."
   ]
  },
  {
   "cell_type": "markdown",
   "id": "e7dc05ba",
   "metadata": {},
   "source": [
    "### When Virat scored a Not-Out century and India won that game"
   ]
  },
  {
   "cell_type": "code",
   "execution_count": 232,
   "id": "244c65ee",
   "metadata": {},
   "outputs": [],
   "source": [
    "data = df[(df['Result']=='Won') & (df['Status']=='Not Out')]"
   ]
  },
  {
   "cell_type": "code",
   "execution_count": 233,
   "id": "699dbdb4",
   "metadata": {},
   "outputs": [
    {
     "data": {
      "text/plain": [
       "(18, 11)"
      ]
     },
     "execution_count": 233,
     "metadata": {},
     "output_type": "execute_result"
    }
   ],
   "source": [
    "data.shape"
   ]
  },
  {
   "cell_type": "markdown",
   "id": "348a9332",
   "metadata": {},
   "source": [
    "From the above data, we can conclude that there are a total of 18 instances when Virat remained not-out while scoring a century and India Wins that game"
   ]
  },
  {
   "cell_type": "markdown",
   "id": "f78f7078",
   "metadata": {},
   "source": [
    "### How many runs Virat scored with centuries"
   ]
  },
  {
   "cell_type": "code",
   "execution_count": 241,
   "id": "5ac7854c",
   "metadata": {},
   "outputs": [
    {
     "data": {
      "text/plain": [
       "9960"
      ]
     },
     "execution_count": 241,
     "metadata": {},
     "output_type": "execute_result"
    }
   ],
   "source": [
    "df['Runs'].sum()"
   ]
  },
  {
   "cell_type": "markdown",
   "id": "0ee1eddb",
   "metadata": {},
   "source": [
    "From the above analysis we conclude that, Virat Kohli scored close to 10000 runs, precisely 9960 runs in his career with centuries."
   ]
  },
  {
   "cell_type": "markdown",
   "id": "4a2eb116",
   "metadata": {},
   "source": [
    " "
   ]
  },
  {
   "cell_type": "markdown",
   "id": "93e23c41",
   "metadata": {},
   "source": [
    "# Conclusions:"
   ]
  },
  {
   "cell_type": "markdown",
   "id": "a7380041",
   "metadata": {},
   "source": [
    "# 1) Out of total centuries scored, Virat was not out in 21 of them, while declared out in 54 of them.\n",
    "\n",
    "# 2) Whenever Virat scores a century, India wins 68% of those matches.\n",
    "\n",
    "# 3) Virat scored 35 centuries on Home Ground, 35 centuries on Away Grounds and 5 centuries on Neural Venues.\n",
    "\n",
    "# 4) Virat scored most centuries, that is 41 centuries in the second innings of a match.\n",
    "\n",
    "# 5) Virat has scored most of his centuries vs Australia(16), while second most is Sri Lanka(15).\n",
    "\n",
    "# 6) Virat has scored most of his centuries on Adelaide Oval, Adelaide Ground(5).\n",
    "\n",
    "# 7) Virat has scored 39 centuries batting at number 3 position, while 31 centuries batting at number 4 position.\n",
    "\n",
    "# 8) The peak years of Virat were 2017 and 2018 where he scred a total of 22 centuries (11 in each year) across all formats. Also it can be observed that 2020 and 2021 were the two years where Virat scored no centuries at all."
   ]
  },
  {
   "cell_type": "markdown",
   "id": "fac3a9b5",
   "metadata": {},
   "source": [
    " "
   ]
  },
  {
   "cell_type": "markdown",
   "id": "f1dcad78",
   "metadata": {},
   "source": [
    "# Thank You"
   ]
  },
  {
   "cell_type": "code",
   "execution_count": null,
   "id": "600160e4",
   "metadata": {},
   "outputs": [],
   "source": []
  }
 ],
 "metadata": {
  "kernelspec": {
   "display_name": "Python 3 (ipykernel)",
   "language": "python",
   "name": "python3"
  },
  "language_info": {
   "codemirror_mode": {
    "name": "ipython",
    "version": 3
   },
   "file_extension": ".py",
   "mimetype": "text/x-python",
   "name": "python",
   "nbconvert_exporter": "python",
   "pygments_lexer": "ipython3",
   "version": "3.10.2"
  }
 },
 "nbformat": 4,
 "nbformat_minor": 5
}
